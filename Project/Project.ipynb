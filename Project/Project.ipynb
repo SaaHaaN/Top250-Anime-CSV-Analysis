{
 "cells": [
  {
   "cell_type": "code",
   "execution_count": 1,
   "metadata": {},
   "outputs": [],
   "source": [
    "import csv\n",
    "import math\n",
    "import random\n",
    "import statistics\n",
    "\n",
    "import matplotlib.pyplot as plt\n"
   ]
  },
  {
   "cell_type": "code",
   "execution_count": 2,
   "metadata": {},
   "outputs": [
    {
     "name": "stdout",
     "output_type": "stream",
     "text": [
      "The dataset I chose is top250_anime, which contains information about the top 250 anime shows.The column I selected is named \"score.\" This column represents the ratings assigned to each anime show. I chose this column because it provides a measure of the quality or popularity of each anime show. By analyzing this column, we can identify the highest-rated anime shows within the dataset and conduct further analysis, comparisons, and trend exploration based on these scores.\n"
     ]
    }
   ],
   "source": [
    "print('The dataset I chose is top250_anime, which contains information about the top 250 anime shows.The column I selected is named \"score.\" This column represents the ratings assigned to each anime show. I chose this column because it provides a measure of the quality or popularity of each anime show. By analyzing this column, we can identify the highest-rated anime shows within the dataset and conduct further analysis, comparisons, and trend exploration based on these scores.')"
   ]
  },
  {
   "cell_type": "code",
   "execution_count": 3,
   "metadata": {},
   "outputs": [
    {
     "name": "stdout",
     "output_type": "stream",
     "text": [
      "Score value: [9.17, 9.11, 9.09, 9.08, 9.07, 9.06, 9.06, 9.05, 9.04, 9.04, 9.03, 9.03, 9.01, 8.99, 8.95, 8.94, 8.94, 8.94, 8.94, 8.92, 8.91, 8.91, 8.91, 8.89, 8.88, 8.86, 8.85, 8.81, 8.81, 8.81, 8.8, 8.8, 8.79, 8.78, 8.78, 8.77, 8.77, 8.75, 8.75, 8.75, 8.75, 8.74, 8.73, 8.73, 8.73, 8.71, 8.71, 8.71, 8.71, 8.71, 8.7, 8.7, 8.7, 8.69, 8.69, 8.68, 8.68, 8.68, 8.67, 8.67, 8.66, 8.66, 8.66, 8.66, 8.66, 8.65, 8.65, 8.65, 8.64, 8.64, 8.64, 8.63, 8.63, 8.63, 8.63, 8.63, 8.62, 8.62, 8.62, 8.62, 8.62, 8.62, 8.61, 8.61, 8.61, 8.6, 8.59, 8.58, 8.58, 8.58, 8.58, 8.57, 8.57, 8.57, 8.57, 8.56, 8.56, 8.56, 8.56, 8.56, 8.55, 8.55, 8.55, 8.55, 8.54, 8.54, 8.54, 8.53, 8.53, 8.53, 8.53, 8.53, 8.53, 8.53, 8.53, 8.52, 8.52, 8.52, 8.52, 8.52, 8.52, 8.51, 8.51, 8.51, 8.51, 8.5, 8.5, 8.5, 8.5, 8.5, 8.49, 8.49, 8.49, 8.49, 8.48, 8.48, 8.47, 8.47, 8.47, 8.46, 8.46, 8.46, 8.45, 8.45, 8.45, 8.45, 8.45, 8.45, 8.45, 8.44, 8.44, 8.44, 8.44, 8.44, 8.44, 8.44, 8.43, 8.43, 8.43, 8.43, 8.43, 8.43, 8.42, 8.42, 8.42, 8.42, 8.41, 8.41, 8.41, 8.41, 8.41, 8.41, 8.41, 8.4, 8.4, 8.4, 8.4, 8.4, 8.39, 8.39, 8.39, 8.39, 8.39, 8.39, 8.39, 8.38, 8.38, 8.38, 8.38, 8.37, 8.37, 8.37, 8.37, 8.37, 8.37, 8.37, 8.36, 8.36, 8.36, 8.36, 8.36, 8.36, 8.35, 8.35, 8.35, 8.35, 8.35, 8.34, 8.34, 8.34, 8.34, 8.34, 8.33, 8.33, 8.33, 8.33, 8.33, 8.33, 8.33, 8.33, 8.33, 8.33, 8.33, 8.33, 8.32, 8.32, 8.32, 8.32, 8.32, 8.32, 8.32, 8.32, 8.32, 8.32, 8.31, 8.31, 8.31, 8.31, 8.31, 8.31, 8.31, 8.31, 8.31, 8.3, 8.3, 8.3, 8.3, 8.3, 8.3, 8.29]\n"
     ]
    }
   ],
   "source": [
    "def csv_scoreColumn(dataset, scoreColumn_index):\n",
    "    scoreColumn = []\n",
    "    with open(dataset, 'r') as file:\n",
    "        csvReader = csv.reader(file)\n",
    "        for row in csvReader:\n",
    "            try:\n",
    "                scoreValue = float(row[scoreColumn_index])\n",
    "                scoreColumn.append(scoreValue)\n",
    "            except ValueError:\n",
    "                continue\n",
    "    return scoreColumn\n",
    "\n",
    "\n",
    "dataset = 'top250_anime.csv'  # CSV dosyasının yolunu belirtin\n",
    "scoreColumnInd =  11\n",
    "\n",
    "\n",
    "scoreColumn = csv_scoreColumn(dataset, scoreColumnInd)\n",
    "print(\"Score value:\", scoreColumn)\n"
   ]
  },
  {
   "cell_type": "code",
   "execution_count": 4,
   "metadata": {},
   "outputs": [
    {
     "name": "stdout",
     "output_type": "stream",
     "text": [
      "Mean: 8.546679999999999\n"
     ]
    }
   ],
   "source": [
    "# Find mean of column data\n",
    "def calculateMean(array):\n",
    "    sumElemnts = sum(array)\n",
    "    mean = sumElemnts / len(array)\n",
    "    return mean\n",
    "\n",
    "mean = calculateMean(scoreColumn)\n",
    "print(\"Mean:\", mean)\n"
   ]
  },
  {
   "cell_type": "code",
   "execution_count": 5,
   "metadata": {},
   "outputs": [
    {
     "name": "stdout",
     "output_type": "stream",
     "text": [
      "Median: 8.504999999999999\n"
     ]
    }
   ],
   "source": [
    "# Find median of column data\n",
    "def calculateMedian(array):\n",
    "    sortedColumn = sorted(array)\n",
    "    n = len(sortedColumn)\n",
    "    middleIndex = n // 2\n",
    "\n",
    "    if n % 2 == 0:\n",
    "        median = (sortedColumn[middleIndex - 1] + sortedColumn[middleIndex]) / 2\n",
    "    else:\n",
    "        median = sortedColumn[middleIndex]\n",
    "    return median\n",
    "\n",
    "\n",
    "median = calculateMedian(scoreColumn)\n",
    "print(\"Median:\", median)\n"
   ]
  },
  {
   "cell_type": "code",
   "execution_count": 6,
   "metadata": {},
   "outputs": [
    {
     "name": "stdout",
     "output_type": "stream",
     "text": [
      "Variance: 0.04253977759999996\n"
     ]
    }
   ],
   "source": [
    "# Find the variance\n",
    "def calculateVariance(array):\n",
    "    n = len(array)\n",
    "    mean = sum(array) / n\n",
    "    variance = sum((x - mean) ** 2 for x in array) / n\n",
    "    return variance\n",
    "\n",
    "\n",
    "variance = calculateVariance(scoreColumn)\n",
    "print(\"Variance:\", variance)\n"
   ]
  },
  {
   "cell_type": "code",
   "execution_count": 7,
   "metadata": {},
   "outputs": [
    {
     "name": "stdout",
     "output_type": "stream",
     "text": [
      "Standard deviation: 0.206251733568472\n"
     ]
    }
   ],
   "source": [
    "# Find the standart deviation\n",
    "def calculateStdDeviation(array):\n",
    "    n = len(array)\n",
    "\n",
    "    stdDeviation = variance ** 0.5\n",
    "\n",
    "    return stdDeviation\n",
    "\n",
    "stdDevation = calculateStdDeviation(scoreColumn)\n",
    "print(\"Standard deviation:\", stdDevation)\n"
   ]
  },
  {
   "cell_type": "code",
   "execution_count": 8,
   "metadata": {},
   "outputs": [
    {
     "name": "stdout",
     "output_type": "stream",
     "text": [
      "Standard Error: 0.013044504988691594\n"
     ]
    }
   ],
   "source": [
    "# Find the standart error\n",
    "def calculateStdError(array):\n",
    "    n = len(array)\n",
    "    std_error = (variance ** 0.5) / (n ** 0.5)\n",
    "    return std_error\n",
    "\n",
    "std_error = calculateStdError(scoreColumn)\n",
    "print(\"Standard Error:\", std_error)\n"
   ]
  },
  {
   "cell_type": "code",
   "execution_count": 9,
   "metadata": {},
   "outputs": [
    {
     "name": "stdout",
     "output_type": "stream",
     "text": [
      "The distribution is skewed to the left\n"
     ]
    }
   ],
   "source": [
    "#Decide the shape of distribution Score Value\n",
    "if stdDevation > mean:\n",
    "    print(\"The distribution is skewed to the right\")\n",
    "elif stdDevation < mean:\n",
    "    print(\"The distribution is skewed to the left\")\n",
    "else:\n",
    "    print(\"The distribution is normal\")"
   ]
  },
  {
   "cell_type": "code",
   "execution_count": 10,
   "metadata": {},
   "outputs": [
    {
     "name": "stdout",
     "output_type": "stream",
     "text": [
      "Outliers:\n",
      "9.17\n",
      "9.11\n",
      "9.09\n",
      "9.08\n"
     ]
    }
   ],
   "source": [
    "# Find outliers if there is\n",
    "def findOutliers(column):\n",
    "    sortedCol = sorted(column)  # Sütunu sıralar\n",
    "\n",
    "    n = len(sortedCol)\n",
    "    Q1_index = int(n * 0.25)  # Q1 için indeks hesaplanır\n",
    "    Q3_index = int(n * 0.75)  # Q3 için indeks hesaplanır\n",
    "\n",
    "    Q1 = sortedCol[Q1_index]  # Q1 değeri alınır\n",
    "    Q3 = sortedCol[Q3_index]  # Q3 değeri alınır\n",
    "\n",
    "    IQR = Q3 - Q1  # IQR hesaplanır\n",
    "\n",
    "    lowerBound = Q1 - 1.5 * IQR  # Alt sınıra göre eşik değeri hesaplanır\n",
    "    upperBound = Q3 + 1.5 * IQR  # Üst sınıra göre eşik değeri hesaplanır\n",
    "\n",
    "    Outliers = [value for value in column if value < lowerBound or value > upperBound]\n",
    "\n",
    "    return Outliers\n",
    "\n",
    "\n",
    "Outliers = findOutliers(scoreColumn)\n",
    "\n",
    "print(\"Outliers:\")\n",
    "for x in Outliers:\n",
    "    print(x)\n"
   ]
  },
  {
   "cell_type": "code",
   "execution_count": 11,
   "metadata": {},
   "outputs": [
    {
     "data": {
      "image/png": "[encoded data removed]",
      "text/plain": [
       "<Figure size 640x480 with 1 Axes>"
      ]
     },
     "metadata": {},
     "output_type": "display_data"
    },
    {
     "name": "stdout",
     "output_type": "stream",
     "text": [
      "Summary Statistics:\n",
      "Mean Score Value: 8.546679999999999\n",
      "Median Score Value: 8.504999999999999\n",
      "Minimum Score Value: 8.29\n",
      "Maximum Score Value: 9.17\n",
      "The distribution is positively skewed.\n",
      "There is variation in Score Value.\n"
     ]
    }
   ],
   "source": [
    "# Plot a histogram of the Score Value with matplotlib.pyplot\n",
    "plt.hist(scoreColumn, bins=20)\n",
    "plt.xlabel('Score Value')\n",
    "plt.ylabel('Frequency')\n",
    "plt.title('Distribution of Score Value')\n",
    "plt.show()\n",
    "\n",
    "\n",
    "minValue = scoreColumn[0]\n",
    "maxValue = scoreColumn[0]\n",
    "\n",
    "for eleman in scoreColumn:\n",
    "    if eleman < minValue:\n",
    "        minValue = eleman\n",
    "    if eleman > maxValue:\n",
    "        maxValue = eleman\n",
    "\n",
    "# Print the summary statistics and comments\n",
    "print(\"Summary Statistics:\")\n",
    "print(\"Mean Score Value:\", mean)\n",
    "print(\"Median Score Value:\", median)\n",
    "print(\"Minimum Score Value:\", minValue)\n",
    "print(\"Maximum Score Value:\", maxValue)\n",
    "\n",
    "# Add comments about the data based on the summary statistics\n",
    "if mean > median:\n",
    "    print(\"The distribution is positively skewed.\")\n",
    "elif mean < median:\n",
    "    print(\"The distribution is negatively skewed.\")\n",
    "else:\n",
    "    print(\"The distribution is symmetric.\")\n",
    "\n",
    "if minValue == maxValue:\n",
    "    print(\"All Score Values are the same.\")\n",
    "else:\n",
    "    print(\"There is variation in Score Value.\")"
   ]
  },
  {
   "cell_type": "code",
   "execution_count": 12,
   "metadata": {},
   "outputs": [
    {
     "data": {
      "image/png": "[encoded data removed]",
      "text/plain": [
       "<Figure size 640x480 with 1 Axes>"
      ]
     },
     "metadata": {},
     "output_type": "display_data"
    },
    {
     "name": "stdout",
     "output_type": "stream",
     "text": [
      "The distribution is positively skewed.\n"
     ]
    }
   ],
   "source": [
    "# Create a boxplot of the Score Value with matplotlib.pyplot\n",
    "plt.boxplot(scoreColumn)\n",
    "plt.ylabel('Score Value')\n",
    "plt.title('Boxplot of Score Value')\n",
    "plt.show()\n",
    "\n",
    "# Add comments data based on the boxplot\n",
    "if mean > median:\n",
    "    print(\"The distribution is positively skewed.\")\n",
    "elif mean < median:\n",
    "    print(\"The distribution is negatively skewed.\")\n",
    "else:\n",
    "    print(\"The distribution is symmetric.\")"
   ]
  },
  {
   "cell_type": "code",
   "execution_count": 13,
   "metadata": {},
   "outputs": [
    {
     "name": "stdout",
     "output_type": "stream",
     "text": [
      "95% Confidence Interval for the Mean:\n",
      "(8.37043, 8.67957)\n",
      "\n",
      "95% Confidence Interval for the Variance:\n",
      "(0.022091678494454123, 0.15564814814814842)\n"
     ]
    }
   ],
   "source": [
    "#Take specific number of sample and construct %95 confidence \n",
    "#interval for the mean and variance\n",
    "\n",
    "#Belirli sayıda örnek alın ve ortalama ve varyans için %95 güven aralığı oluşturun\n",
    "\n",
    "sampleSize = 10\n",
    "alpha = 0.05\n",
    "\n",
    "# Rastgele örnekleme\n",
    "samples = random.sample(scoreColumn, sampleSize)\n",
    "sampleMean = sum(samples) / sampleSize\n",
    "\n",
    "# Örneklem standart sapma\n",
    "sampleSTD = math.sqrt(sum((x - sampleMean) ** 2 for x in samples) / (sampleSize - 1))\n",
    "\n",
    "tCriticalPoint = 2.262  # df = 9, alpha/2 = 0.025 için\n",
    "\n",
    "# Ortalama için güven aralığı\n",
    "meanInterval = (sampleMean - tCriticalPoint * sampleSTD / math.sqrt(sampleSize), sampleMean + tCriticalPoint * sampleSTD / math.sqrt(sampleSize))\n",
    "\n",
    "# Varyans için güven aralığı\n",
    "varianceInterval = ((sampleSize - 1) * sampleSTD ** 2 / 19.023, (sampleSize - 1) * sampleSTD ** 2 / 2.700)\n",
    "\n",
    "# Sonuçları yazdırma\n",
    "print(\"95% Confidence Interval for the Mean:\")\n",
    "print(meanInterval)\n",
    "print(\"\\n95% Confidence Interval for the Variance:\")\n",
    "print(varianceInterval)\n"
   ]
  },
  {
   "cell_type": "code",
   "execution_count": 14,
   "metadata": {},
   "outputs": [
    {
     "name": "stdout",
     "output_type": "stream",
     "text": [
      "Sample Size: 14\n"
     ]
    }
   ],
   "source": [
    "import scipy.stats as stats\n",
    "# Specify the desired margin of error and confidence level\n",
    "marginError = 0.1\n",
    "confidenceLevel = 0.90\n",
    "\n",
    "def calculateSampleSize(stdDevation, marginError, confidenceLevel):\n",
    "    zScore = abs(stats.norm.ppf((1 - confidenceLevel) / 2))\n",
    "\n",
    "    # Calculate the sample size\n",
    "    sampleSize = (zScore*2 * stdDevation) / marginError*2\n",
    "\n",
    "    # Round up to the nearest whole number\n",
    "    sampleSize = math.ceil(sampleSize)\n",
    "\n",
    "    return sampleSize\n",
    "\n",
    "\n",
    "sampleSize = calculateSampleSize(stdDevation, marginError, confidenceLevel)\n",
    "print(\"Sample Size:\", sampleSize)"
   ]
  }
 ],
 "metadata": {
  "kernelspec": {
   "display_name": "Python 3",
   "language": "python",
   "name": "python3"
  },
  "language_info": {
   "codemirror_mode": {
    "name": "ipython",
    "version": 3
   },
   "file_extension": ".py",
   "mimetype": "text/x-python",
   "name": "python",
   "nbconvert_exporter": "python",
   "pygments_lexer": "ipython3",
   "version": "3.11.2"
  },
  "orig_nbformat": 4
 },
 "nbformat": 4,
 "nbformat_minor": 2
}
